{
 "cells": [
  {
   "cell_type": "code",
   "execution_count": 1,
   "id": "613c4c8f",
   "metadata": {},
   "outputs": [],
   "source": [
    "import os \n",
    "import openai\n",
    "import pandas as pd\n",
    "import sqlalchemy\n",
    "from sqlalchemy import create_engine\n",
    "from sqlalchemy import text"
   ]
  },
  {
   "cell_type": "code",
   "execution_count": 5,
   "id": "7a69939c",
   "metadata": {},
   "outputs": [],
   "source": [
    "openai.api_key = os.getenv(\"OPENAI_API_KEY\")"
   ]
  },
  {
   "cell_type": "code",
   "execution_count": 6,
   "id": "555bdb8a",
   "metadata": {},
   "outputs": [],
   "source": [
    "df = pd.read_csv('sales_data_sample.csv')"
   ]
  },
  {
   "cell_type": "code",
   "execution_count": 7,
   "id": "4304b1a4",
   "metadata": {},
   "outputs": [
    {
     "data": {
      "text/html": [
       "<div>\n",
       "<style scoped>\n",
       "    .dataframe tbody tr th:only-of-type {\n",
       "        vertical-align: middle;\n",
       "    }\n",
       "\n",
       "    .dataframe tbody tr th {\n",
       "        vertical-align: top;\n",
       "    }\n",
       "\n",
       "    .dataframe thead th {\n",
       "        text-align: right;\n",
       "    }\n",
       "</style>\n",
       "<table border=\"1\" class=\"dataframe\">\n",
       "  <thead>\n",
       "    <tr style=\"text-align: right;\">\n",
       "      <th></th>\n",
       "      <th>ORDERNUMBER</th>\n",
       "      <th>QUANTITYORDERED</th>\n",
       "      <th>PRICEEACH</th>\n",
       "      <th>ORDERLINENUMBER</th>\n",
       "      <th>SALES</th>\n",
       "      <th>ORDERDATE</th>\n",
       "      <th>STATUS</th>\n",
       "      <th>QTR_ID</th>\n",
       "      <th>MONTH_ID</th>\n",
       "      <th>YEAR_ID</th>\n",
       "      <th>...</th>\n",
       "      <th>ADDRESSLINE1</th>\n",
       "      <th>ADDRESSLINE2</th>\n",
       "      <th>CITY</th>\n",
       "      <th>STATE</th>\n",
       "      <th>POSTALCODE</th>\n",
       "      <th>COUNTRY</th>\n",
       "      <th>TERRITORY</th>\n",
       "      <th>CONTACTLASTNAME</th>\n",
       "      <th>CONTACTFIRSTNAME</th>\n",
       "      <th>DEALSIZE</th>\n",
       "    </tr>\n",
       "  </thead>\n",
       "  <tbody>\n",
       "    <tr>\n",
       "      <th>0</th>\n",
       "      <td>10107</td>\n",
       "      <td>30</td>\n",
       "      <td>95.70</td>\n",
       "      <td>2</td>\n",
       "      <td>2871.00</td>\n",
       "      <td>2/24/2003 0:00</td>\n",
       "      <td>Shipped</td>\n",
       "      <td>1</td>\n",
       "      <td>2</td>\n",
       "      <td>2003</td>\n",
       "      <td>...</td>\n",
       "      <td>897 Long Airport Avenue</td>\n",
       "      <td>NaN</td>\n",
       "      <td>NYC</td>\n",
       "      <td>NY</td>\n",
       "      <td>10022</td>\n",
       "      <td>USA</td>\n",
       "      <td>NaN</td>\n",
       "      <td>Yu</td>\n",
       "      <td>Kwai</td>\n",
       "      <td>Small</td>\n",
       "    </tr>\n",
       "    <tr>\n",
       "      <th>1</th>\n",
       "      <td>10121</td>\n",
       "      <td>34</td>\n",
       "      <td>81.35</td>\n",
       "      <td>5</td>\n",
       "      <td>2765.90</td>\n",
       "      <td>5/7/2003 0:00</td>\n",
       "      <td>Shipped</td>\n",
       "      <td>2</td>\n",
       "      <td>5</td>\n",
       "      <td>2003</td>\n",
       "      <td>...</td>\n",
       "      <td>59 rue de l'Abbaye</td>\n",
       "      <td>NaN</td>\n",
       "      <td>Reims</td>\n",
       "      <td>NaN</td>\n",
       "      <td>51100</td>\n",
       "      <td>France</td>\n",
       "      <td>EMEA</td>\n",
       "      <td>Henriot</td>\n",
       "      <td>Paul</td>\n",
       "      <td>Small</td>\n",
       "    </tr>\n",
       "    <tr>\n",
       "      <th>2</th>\n",
       "      <td>10134</td>\n",
       "      <td>41</td>\n",
       "      <td>94.74</td>\n",
       "      <td>2</td>\n",
       "      <td>3884.34</td>\n",
       "      <td>7/1/2003 0:00</td>\n",
       "      <td>Shipped</td>\n",
       "      <td>3</td>\n",
       "      <td>7</td>\n",
       "      <td>2003</td>\n",
       "      <td>...</td>\n",
       "      <td>27 rue du Colonel Pierre Avia</td>\n",
       "      <td>NaN</td>\n",
       "      <td>Paris</td>\n",
       "      <td>NaN</td>\n",
       "      <td>75508</td>\n",
       "      <td>France</td>\n",
       "      <td>EMEA</td>\n",
       "      <td>Da Cunha</td>\n",
       "      <td>Daniel</td>\n",
       "      <td>Medium</td>\n",
       "    </tr>\n",
       "    <tr>\n",
       "      <th>3</th>\n",
       "      <td>10145</td>\n",
       "      <td>45</td>\n",
       "      <td>83.26</td>\n",
       "      <td>6</td>\n",
       "      <td>3746.70</td>\n",
       "      <td>8/25/2003 0:00</td>\n",
       "      <td>Shipped</td>\n",
       "      <td>3</td>\n",
       "      <td>8</td>\n",
       "      <td>2003</td>\n",
       "      <td>...</td>\n",
       "      <td>78934 Hillside Dr.</td>\n",
       "      <td>NaN</td>\n",
       "      <td>Pasadena</td>\n",
       "      <td>CA</td>\n",
       "      <td>90003</td>\n",
       "      <td>USA</td>\n",
       "      <td>NaN</td>\n",
       "      <td>Young</td>\n",
       "      <td>Julie</td>\n",
       "      <td>Medium</td>\n",
       "    </tr>\n",
       "    <tr>\n",
       "      <th>4</th>\n",
       "      <td>10159</td>\n",
       "      <td>49</td>\n",
       "      <td>100.00</td>\n",
       "      <td>14</td>\n",
       "      <td>5205.27</td>\n",
       "      <td>10/10/2003 0:00</td>\n",
       "      <td>Shipped</td>\n",
       "      <td>4</td>\n",
       "      <td>10</td>\n",
       "      <td>2003</td>\n",
       "      <td>...</td>\n",
       "      <td>7734 Strong St.</td>\n",
       "      <td>NaN</td>\n",
       "      <td>San Francisco</td>\n",
       "      <td>CA</td>\n",
       "      <td>NaN</td>\n",
       "      <td>USA</td>\n",
       "      <td>NaN</td>\n",
       "      <td>Brown</td>\n",
       "      <td>Julie</td>\n",
       "      <td>Medium</td>\n",
       "    </tr>\n",
       "  </tbody>\n",
       "</table>\n",
       "<p>5 rows × 25 columns</p>\n",
       "</div>"
      ],
      "text/plain": [
       "   ORDERNUMBER  QUANTITYORDERED  PRICEEACH  ORDERLINENUMBER    SALES  \\\n",
       "0        10107               30      95.70                2  2871.00   \n",
       "1        10121               34      81.35                5  2765.90   \n",
       "2        10134               41      94.74                2  3884.34   \n",
       "3        10145               45      83.26                6  3746.70   \n",
       "4        10159               49     100.00               14  5205.27   \n",
       "\n",
       "         ORDERDATE   STATUS  QTR_ID  MONTH_ID  YEAR_ID  ...  \\\n",
       "0   2/24/2003 0:00  Shipped       1         2     2003  ...   \n",
       "1    5/7/2003 0:00  Shipped       2         5     2003  ...   \n",
       "2    7/1/2003 0:00  Shipped       3         7     2003  ...   \n",
       "3   8/25/2003 0:00  Shipped       3         8     2003  ...   \n",
       "4  10/10/2003 0:00  Shipped       4        10     2003  ...   \n",
       "\n",
       "                    ADDRESSLINE1  ADDRESSLINE2           CITY STATE  \\\n",
       "0        897 Long Airport Avenue           NaN            NYC    NY   \n",
       "1             59 rue de l'Abbaye           NaN          Reims   NaN   \n",
       "2  27 rue du Colonel Pierre Avia           NaN          Paris   NaN   \n",
       "3             78934 Hillside Dr.           NaN       Pasadena    CA   \n",
       "4                7734 Strong St.           NaN  San Francisco    CA   \n",
       "\n",
       "  POSTALCODE COUNTRY TERRITORY CONTACTLASTNAME CONTACTFIRSTNAME DEALSIZE  \n",
       "0      10022     USA       NaN              Yu             Kwai    Small  \n",
       "1      51100  France      EMEA         Henriot             Paul    Small  \n",
       "2      75508  France      EMEA        Da Cunha           Daniel   Medium  \n",
       "3      90003     USA       NaN           Young            Julie   Medium  \n",
       "4        NaN     USA       NaN           Brown            Julie   Medium  \n",
       "\n",
       "[5 rows x 25 columns]"
      ]
     },
     "execution_count": 7,
     "metadata": {},
     "output_type": "execute_result"
    }
   ],
   "source": [
    "df.head()"
   ]
  },
  {
   "cell_type": "code",
   "execution_count": 8,
   "id": "bd10472d",
   "metadata": {},
   "outputs": [],
   "source": [
    "temp_db = create_engine('sqlite:///:memory:',echo=True)"
   ]
  },
  {
   "cell_type": "code",
   "execution_count": 9,
   "id": "f50973da",
   "metadata": {},
   "outputs": [
    {
     "name": "stdout",
     "output_type": "stream",
     "text": [
      "2023-03-06 15:54:08,586 INFO sqlalchemy.engine.Engine BEGIN (implicit)\n",
      "2023-03-06 15:54:08,587 INFO sqlalchemy.engine.Engine PRAGMA main.table_info(\"Sales\")\n",
      "2023-03-06 15:54:08,589 INFO sqlalchemy.engine.Engine [raw sql] ()\n",
      "2023-03-06 15:54:08,590 INFO sqlalchemy.engine.Engine PRAGMA temp.table_info(\"Sales\")\n",
      "2023-03-06 15:54:08,591 INFO sqlalchemy.engine.Engine [raw sql] ()\n",
      "2023-03-06 15:54:08,593 INFO sqlalchemy.engine.Engine ROLLBACK\n",
      "2023-03-06 15:54:08,598 INFO sqlalchemy.engine.Engine BEGIN (implicit)\n",
      "2023-03-06 15:54:08,600 INFO sqlalchemy.engine.Engine \n",
      "CREATE TABLE \"Sales\" (\n",
      "\t\"index\" BIGINT, \n",
      "\t\"ORDERNUMBER\" BIGINT, \n",
      "\t\"QUANTITYORDERED\" BIGINT, \n",
      "\t\"PRICEEACH\" FLOAT, \n",
      "\t\"ORDERLINENUMBER\" BIGINT, \n",
      "\t\"SALES\" FLOAT, \n",
      "\t\"ORDERDATE\" TEXT, \n",
      "\t\"STATUS\" TEXT, \n",
      "\t\"QTR_ID\" BIGINT, \n",
      "\t\"MONTH_ID\" BIGINT, \n",
      "\t\"YEAR_ID\" BIGINT, \n",
      "\t\"PRODUCTLINE\" TEXT, \n",
      "\t\"MSRP\" BIGINT, \n",
      "\t\"PRODUCTCODE\" TEXT, \n",
      "\t\"CUSTOMERNAME\" TEXT, \n",
      "\t\"PHONE\" TEXT, \n",
      "\t\"ADDRESSLINE1\" TEXT, \n",
      "\t\"ADDRESSLINE2\" TEXT, \n",
      "\t\"CITY\" TEXT, \n",
      "\t\"STATE\" TEXT, \n",
      "\t\"POSTALCODE\" TEXT, \n",
      "\t\"COUNTRY\" TEXT, \n",
      "\t\"TERRITORY\" TEXT, \n",
      "\t\"CONTACTLASTNAME\" TEXT, \n",
      "\t\"CONTACTFIRSTNAME\" TEXT, \n",
      "\t\"DEALSIZE\" TEXT\n",
      ")\n",
      "\n",
      "\n",
      "2023-03-06 15:54:08,602 INFO sqlalchemy.engine.Engine [no key 0.00130s] ()\n",
      "2023-03-06 15:54:08,604 INFO sqlalchemy.engine.Engine CREATE INDEX \"ix_Sales_index\" ON \"Sales\" (\"index\")\n",
      "2023-03-06 15:54:08,605 INFO sqlalchemy.engine.Engine [no key 0.00121s] ()\n",
      "2023-03-06 15:54:08,608 INFO sqlalchemy.engine.Engine COMMIT\n",
      "2023-03-06 15:54:08,620 INFO sqlalchemy.engine.Engine BEGIN (implicit)\n",
      "2023-03-06 15:54:08,679 INFO sqlalchemy.engine.Engine INSERT INTO \"Sales\" (\"index\", \"ORDERNUMBER\", \"QUANTITYORDERED\", \"PRICEEACH\", \"ORDERLINENUMBER\", \"SALES\", \"ORDERDATE\", \"STATUS\", \"QTR_ID\", \"MONTH_ID\", \"YEAR_ID\", \"PRODUCTLINE\", \"MSRP\", \"PRODUCTCODE\", \"CUSTOMERNAME\", \"PHONE\", \"ADDRESSLINE1\", \"ADDRESSLINE2\", \"CITY\", \"STATE\", \"POSTALCODE\", \"COUNTRY\", \"TERRITORY\", \"CONTACTLASTNAME\", \"CONTACTFIRSTNAME\", \"DEALSIZE\") VALUES (?, ?, ?, ?, ?, ?, ?, ?, ?, ?, ?, ?, ?, ?, ?, ?, ?, ?, ?, ?, ?, ?, ?, ?, ?, ?)\n",
      "2023-03-06 15:54:08,679 INFO sqlalchemy.engine.Engine [generated in 0.04570s] [(0, 10107, 30, 95.7, 2, 2871.0, '2/24/2003 0:00', 'Shipped', 1, 2, 2003, 'Motorcycles', 95, 'S10_1678', 'Land of Toys Inc.', '2125557818', '897 Long Airport Avenue', None, 'NYC', 'NY', '10022', 'USA', None, 'Yu', 'Kwai', 'Small'), (1, 10121, 34, 81.35, 5, 2765.9, '5/7/2003 0:00', 'Shipped', 2, 5, 2003, 'Motorcycles', 95, 'S10_1678', 'Reims Collectables', '26.47.1555', \"59 rue de l'Abbaye\", None, 'Reims', None, '51100', 'France', 'EMEA', 'Henriot', 'Paul', 'Small'), (2, 10134, 41, 94.74, 2, 3884.34, '7/1/2003 0:00', 'Shipped', 3, 7, 2003, 'Motorcycles', 95, 'S10_1678', 'Lyon Souveniers', '+33 1 46 62 7555', '27 rue du Colonel Pierre Avia', None, 'Paris', None, '75508', 'France', 'EMEA', 'Da Cunha', 'Daniel', 'Medium'), (3, 10145, 45, 83.26, 6, 3746.7, '8/25/2003 0:00', 'Shipped', 3, 8, 2003, 'Motorcycles', 95, 'S10_1678', 'Toys4GrownUps.com', '6265557265', '78934 Hillside Dr.', None, 'Pasadena', 'CA', '90003', 'USA', None, 'Young', 'Julie', 'Medium'), (4, 10159, 49, 100.0, 14, 5205.27, '10/10/2003 0:00', 'Shipped', 4, 10, 2003, 'Motorcycles', 95, 'S10_1678', 'Corporate Gift Ideas Co.', '6505551386', '7734 Strong St.', None, 'San Francisco', 'CA', None, 'USA', None, 'Brown', 'Julie', 'Medium'), (5, 10168, 36, 96.66, 1, 3479.76, '10/28/2003 0:00', 'Shipped', 4, 10, 2003, 'Motorcycles', 95, 'S10_1678', 'Technics Stores Inc.', '6505556809', '9408 Furth Circle', None, 'Burlingame', 'CA', '94217', 'USA', None, 'Hirano', 'Juri', 'Medium'), (6, 10180, 29, 86.13, 9, 2497.77, '11/11/2003 0:00', 'Shipped', 4, 11, 2003, 'Motorcycles', 95, 'S10_1678', 'Daedalus Designs Imports', '20.16.1555', '184, chausse de Tournai', None, 'Lille', None, '59000', 'France', 'EMEA', 'Rance', 'Martine', 'Small'), (7, 10188, 48, 100.0, 1, 5512.32, '11/18/2003 0:00', 'Shipped', 4, 11, 2003, 'Motorcycles', 95, 'S10_1678', 'Herkku Gifts', '+47 2267 3215', 'Drammen 121, PR 744 Sentrum', None, 'Bergen', None, 'N 5804', 'Norway', 'EMEA', 'Oeztan', 'Veysel', 'Medium')  ... displaying 10 of 2823 total bound parameter sets ...  (2821, 10397, 34, 62.24, 1, 2116.16, '3/28/2005 0:00', 'Shipped', 1, 3, 2005, 'Ships', 54, 'S72_3212', 'Alpha Cognac', '61.77.6555', '1 rue Alsace-Lorraine', None, 'Toulouse', None, '31000', 'France', 'EMEA', 'Roulet', 'Annette', 'Small'), (2822, 10414, 47, 65.52, 9, 3079.44, '5/6/2005 0:00', 'On Hold', 2, 5, 2005, 'Ships', 54, 'S72_3212', 'Gifts4AllAges.com', '6175559555', '8616 Spinnaker Dr.', None, 'Boston', 'MA', '51003', 'USA', None, 'Yoshido', 'Juri', 'Medium')]\n",
      "2023-03-06 15:54:08,706 INFO sqlalchemy.engine.Engine COMMIT\n",
      "2023-03-06 15:54:08,707 INFO sqlalchemy.engine.Engine BEGIN (implicit)\n",
      "2023-03-06 15:54:08,708 INFO sqlalchemy.engine.Engine SELECT name FROM sqlite_master WHERE type='table' AND name NOT LIKE 'sqlite~_%' ESCAPE '~' ORDER BY name\n",
      "2023-03-06 15:54:08,709 INFO sqlalchemy.engine.Engine [raw sql] ()\n",
      "2023-03-06 15:54:08,710 INFO sqlalchemy.engine.Engine ROLLBACK\n"
     ]
    }
   ],
   "source": [
    "data = df.to_sql(name='Sales',con=temp_db)"
   ]
  },
  {
   "cell_type": "code",
   "execution_count": 10,
   "id": "653aee4e",
   "metadata": {},
   "outputs": [
    {
     "name": "stdout",
     "output_type": "stream",
     "text": [
      "2023-03-06 15:54:12,999 INFO sqlalchemy.engine.Engine BEGIN (implicit)\n",
      "2023-03-06 15:54:13,000 INFO sqlalchemy.engine.Engine SELECT sum(SALES) FROM Sales\n",
      "2023-03-06 15:54:13,001 INFO sqlalchemy.engine.Engine [generated in 0.00186s] ()\n",
      "2023-03-06 15:54:13,003 INFO sqlalchemy.engine.Engine ROLLBACK\n"
     ]
    }
   ],
   "source": [
    "with temp_db.connect() as conn:\n",
    "    result = conn.execute(text(\"SELECT sum(SALES) FROM Sales\"))"
   ]
  },
  {
   "cell_type": "code",
   "execution_count": 11,
   "id": "cb6969b2",
   "metadata": {},
   "outputs": [
    {
     "data": {
      "text/plain": [
       "[(10032628.85000001,)]"
      ]
     },
     "execution_count": 11,
     "metadata": {},
     "output_type": "execute_result"
    }
   ],
   "source": [
    "result.all()"
   ]
  },
  {
   "cell_type": "code",
   "execution_count": 12,
   "id": "776232a0",
   "metadata": {},
   "outputs": [],
   "source": [
    "def create_table_definition(df):\n",
    "    prompt = \"\"\"### sqlite SQL table . with it properties:\n",
    "    #\n",
    "    # Sales({})\n",
    "    #\n",
    "    \"\"\".format(\",\".join(str(col) for col in df.columns))\n",
    "    \n",
    "    return prompt"
   ]
  },
  {
   "cell_type": "code",
   "execution_count": 13,
   "id": "e6b89c14",
   "metadata": {},
   "outputs": [
    {
     "name": "stdout",
     "output_type": "stream",
     "text": [
      "### sqlite SQL table . with it properties:\n",
      "    #\n",
      "    # Sales(ORDERNUMBER,QUANTITYORDERED,PRICEEACH,ORDERLINENUMBER,SALES,ORDERDATE,STATUS,QTR_ID,MONTH_ID,YEAR_ID,PRODUCTLINE,MSRP,PRODUCTCODE,CUSTOMERNAME,PHONE,ADDRESSLINE1,ADDRESSLINE2,CITY,STATE,POSTALCODE,COUNTRY,TERRITORY,CONTACTLASTNAME,CONTACTFIRSTNAME,DEALSIZE)\n",
      "    #\n",
      "    \n"
     ]
    }
   ],
   "source": [
    "print(create_table_definition(df))"
   ]
  },
  {
   "cell_type": "code",
   "execution_count": 14,
   "id": "6987e08d",
   "metadata": {},
   "outputs": [],
   "source": [
    "def prompt_input():\n",
    "    nlp_text = input(\"Enter the info you want : \")\n",
    "    return nlp_text"
   ]
  },
  {
   "cell_type": "code",
   "execution_count": 15,
   "id": "f90775da",
   "metadata": {},
   "outputs": [
    {
     "name": "stdout",
     "output_type": "stream",
     "text": [
      "Enter the info you want : dadd\n"
     ]
    },
    {
     "data": {
      "text/plain": [
       "'dadd'"
      ]
     },
     "execution_count": 15,
     "metadata": {},
     "output_type": "execute_result"
    }
   ],
   "source": [
    "prompt_input()"
   ]
  },
  {
   "cell_type": "code",
   "execution_count": 16,
   "id": "add1c28b",
   "metadata": {},
   "outputs": [],
   "source": [
    "def compin_prompt(df,query_prompt):\n",
    "    definition = create_table_definition(df)\n",
    "    query_init_string = f\"### A query to answer: {query_prompt}\\nSELECT\"\n",
    "    return definition+query_init_string"
   ]
  },
  {
   "cell_type": "code",
   "execution_count": 23,
   "id": "93c9172b",
   "metadata": {},
   "outputs": [
    {
     "name": "stdout",
     "output_type": "stream",
     "text": [
      "Enter the info you want : return the sum of SALES per POSTALCODE\n"
     ]
    },
    {
     "data": {
      "text/plain": [
       "'### sqlite SQL table . with it properties:\\n    #\\n    # Sales(ORDERNUMBER,QUANTITYORDERED,PRICEEACH,ORDERLINENUMBER,SALES,ORDERDATE,STATUS,QTR_ID,MONTH_ID,YEAR_ID,PRODUCTLINE,MSRP,PRODUCTCODE,CUSTOMERNAME,PHONE,ADDRESSLINE1,ADDRESSLINE2,CITY,STATE,POSTALCODE,COUNTRY,TERRITORY,CONTACTLASTNAME,CONTACTFIRSTNAME,DEALSIZE)\\n    #\\n    ### A query to answer: return the sum of SALES per POSTALCODE\\nSELECT'"
      ]
     },
     "execution_count": 23,
     "metadata": {},
     "output_type": "execute_result"
    }
   ],
   "source": [
    "nlp_text = prompt_input()\n",
    "compin_prompt(df,nlp_text)"
   ]
  },
  {
   "cell_type": "code",
   "execution_count": 24,
   "id": "a2ab41ef",
   "metadata": {},
   "outputs": [
    {
     "data": {
      "text/plain": [
       "'### sqlite SQL table . with it properties:\\n    #\\n    # Sales(ORDERNUMBER,QUANTITYORDERED,PRICEEACH,ORDERLINENUMBER,SALES,ORDERDATE,STATUS,QTR_ID,MONTH_ID,YEAR_ID,PRODUCTLINE,MSRP,PRODUCTCODE,CUSTOMERNAME,PHONE,ADDRESSLINE1,ADDRESSLINE2,CITY,STATE,POSTALCODE,COUNTRY,TERRITORY,CONTACTLASTNAME,CONTACTFIRSTNAME,DEALSIZE)\\n    #\\n    ### A query to answer: return the sum of SALES per POSTALCODE\\nSELECT'"
      ]
     },
     "execution_count": 24,
     "metadata": {},
     "output_type": "execute_result"
    }
   ],
   "source": [
    "compin_prompt(df,nlp_text)"
   ]
  },
  {
   "cell_type": "code",
   "execution_count": 25,
   "id": "f3828347",
   "metadata": {},
   "outputs": [],
   "source": [
    "response = openai.Completion.create(\n",
    "    model = 'code-davinci-002',\n",
    "    prompt = compin_prompt(df,nlp_text),\n",
    "    temperature = 0,\n",
    "    max_tokens = 150,\n",
    "    top_p=1.0,\n",
    "    frequency_penalty = 0,\n",
    "    presence_penalty =  0,\n",
    "    stop = [\"#\",\";\"]\n",
    "    \n",
    ")"
   ]
  },
  {
   "cell_type": "code",
   "execution_count": 26,
   "id": "6792d97c",
   "metadata": {},
   "outputs": [
    {
     "name": "stdout",
     "output_type": "stream",
     "text": [
      " POSTALCODE, SUM(SALES) FROM Sales GROUP BY POSTALCODE\n",
      "    \n"
     ]
    }
   ],
   "source": [
    "print(response['choices'][0]['text'])"
   ]
  },
  {
   "cell_type": "code",
   "execution_count": 27,
   "id": "6153a4e7",
   "metadata": {},
   "outputs": [],
   "source": [
    "def handle_response(response):\n",
    "    qury = response['choices'][0]['text']\n",
    "    if qury.startswith(\" \"):\n",
    "        qury= \"SELECT\"+qury\n",
    "    return qury\n",
    "        "
   ]
  },
  {
   "cell_type": "code",
   "execution_count": 28,
   "id": "df628f5c",
   "metadata": {},
   "outputs": [
    {
     "data": {
      "text/plain": [
       "'SELECT POSTALCODE, SUM(SALES) FROM Sales GROUP BY POSTALCODE\\n    '"
      ]
     },
     "execution_count": 28,
     "metadata": {},
     "output_type": "execute_result"
    }
   ],
   "source": [
    "handle_response(response)"
   ]
  },
  {
   "cell_type": "code",
   "execution_count": 29,
   "id": "dc3ed7a4",
   "metadata": {},
   "outputs": [
    {
     "name": "stdout",
     "output_type": "stream",
     "text": [
      "2023-03-06 16:05:09,031 INFO sqlalchemy.engine.Engine BEGIN (implicit)\n",
      "2023-03-06 16:05:09,032 INFO sqlalchemy.engine.Engine SELECT POSTALCODE, SUM(SALES) FROM Sales GROUP BY POSTALCODE\n",
      "    \n",
      "2023-03-06 16:05:09,034 INFO sqlalchemy.engine.Engine [generated in 0.00299s] ()\n",
      "2023-03-06 16:05:09,039 INFO sqlalchemy.engine.Engine ROLLBACK\n"
     ]
    }
   ],
   "source": [
    "with temp_db.connect() as conn:\n",
    "    result = conn.execute(text(handle_response(response)))"
   ]
  },
  {
   "cell_type": "code",
   "execution_count": 30,
   "id": "d5e41de5",
   "metadata": {},
   "outputs": [
    {
     "data": {
      "text/plain": [
       "[(None, 272407.14),\n",
       " ('10022', 560787.7699999998),\n",
       " ('10100', 94117.26000000002),\n",
       " ('106-0032', 120562.73999999996),\n",
       " ('1203', 117713.55999999998),\n",
       " ('1227 MM', 94015.73),\n",
       " ('13008', 74936.14),\n",
       " ('1734', 145041.6),\n",
       " ('2', 57756.43),\n",
       " ('2060', 153996.13000000003),\n",
       " ('2067', 151570.98000000004),\n",
       " ('21240', 111250.37999999996),\n",
       " ('24067', 85555.98999999998),\n",
       " ('24100', 137955.72000000003),\n",
       " ('28023', 170257.33000000005),\n",
       " ('28034', 912294.1100000002),\n",
       " ('3004', 200995.40999999997),\n",
       " ('31000', 70488.44),\n",
       " ('3150', 64591.46000000001),\n",
       " ('4101', 59469.11999999999),\n",
       " ('4110', 116599.19),\n",
       " ('41101', 54723.62),\n",
       " ('42100', 142601.33000000002),\n",
       " ('44000', 204304.86),\n",
       " ('5020', 149798.63),\n",
       " ('50553', 207874.86),\n",
       " ('50739', 100306.58),\n",
       " ('51003', 154069.65999999997),\n",
       " ('51100', 135042.94),\n",
       " ('51247', 139243.99999999994),\n",
       " ('530-0003', 67605.07),\n",
       " ('58339', 165255.20000000004),\n",
       " ('59000', 69052.41),\n",
       " ('60528', 85171.58999999998),\n",
       " ('62005', 131685.30000000002),\n",
       " ('67000', 80438.48),\n",
       " ('69004', 142874.25000000003),\n",
       " ('69045', 115498.73000000001),\n",
       " ('70267', 122138.14000000001),\n",
       " ('71270', 151189.12999999998),\n",
       " ('75012', 97203.68000000001),\n",
       " ('75016', 93170.65999999999),\n",
       " ('75508', 78570.34000000001),\n",
       " ('78000', 64834.32000000001),\n",
       " ('79903', 172989.68000000008),\n",
       " ('8010', 52263.899999999994),\n",
       " ('8022', 78411.86000000002),\n",
       " ('80686', 34993.92),\n",
       " ('8200', 100595.54999999999),\n",
       " ('83030', 82751.08000000002),\n",
       " ('90003', 104561.95999999998),\n",
       " ('90110', 104370.38),\n",
       " ('91217', 87489.22999999998),\n",
       " ('92561', 9129.349999999999),\n",
       " ('94019', 129312.82999999999),\n",
       " ('94217', 331011.8500000001),\n",
       " ('97561', 57294.420000000006),\n",
       " ('97562', 756752.8500000003),\n",
       " ('97823', 79472.07),\n",
       " ('B-1180', 74972.52),\n",
       " ('B-6000', 33440.1),\n",
       " ('EC2 5NT', 157807.80999999997),\n",
       " ('FIN-02271', 113961.14999999997),\n",
       " ('H1J 1C3', 74204.79),\n",
       " ('N 0106', 79224.23),\n",
       " ('N 5804', 111640.28),\n",
       " ('PO31 7PJ', 78240.83999999998),\n",
       " ('S-844 67', 134259.33000000002),\n",
       " ('S-958 22', 75754.88),\n",
       " ('T2F 8M4', 74634.84999999999),\n",
       " ('V3F 2K1', 75238.92),\n",
       " ('WA1 1DP', 36019.04),\n",
       " ('WX1 6LT', 118008.26999999999),\n",
       " ('WX3 6FW', 88804.5)]"
      ]
     },
     "execution_count": 30,
     "metadata": {},
     "output_type": "execute_result"
    }
   ],
   "source": [
    "result.all()"
   ]
  },
  {
   "cell_type": "code",
   "execution_count": null,
   "id": "da69fb3b",
   "metadata": {},
   "outputs": [],
   "source": []
  }
 ],
 "metadata": {
  "kernelspec": {
   "display_name": "Python 3 (ipykernel)",
   "language": "python",
   "name": "python3"
  },
  "language_info": {
   "codemirror_mode": {
    "name": "ipython",
    "version": 3
   },
   "file_extension": ".py",
   "mimetype": "text/x-python",
   "name": "python",
   "nbconvert_exporter": "python",
   "pygments_lexer": "ipython3",
   "version": "3.9.16"
  }
 },
 "nbformat": 4,
 "nbformat_minor": 5
}
