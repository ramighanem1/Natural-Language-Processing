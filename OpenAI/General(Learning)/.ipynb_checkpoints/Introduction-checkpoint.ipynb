{
 "cells": [
  {
   "cell_type": "code",
   "execution_count": 2,
   "id": "5331eb01",
   "metadata": {},
   "outputs": [],
   "source": [
    "import openai"
   ]
  },
  {
   "cell_type": "code",
   "execution_count": 1,
   "id": "d08011ac",
   "metadata": {},
   "outputs": [],
   "source": [
    "import os"
   ]
  },
  {
   "cell_type": "code",
   "execution_count": null,
   "id": "021cee95",
   "metadata": {},
   "outputs": [],
   "source": [
    "\"\"\"\n",
    "Environment variables are a collection of key-value pairs that are \n",
    "set in the operating system environment. They provide a convenient way\n",
    "to store and retrieve sensitive information since they are not usually \n",
    "visible in the code or the process list. This makes them a useful tool \n",
    "for enhancing security by keeping sensitive information such as passwords, \n",
    "API keys, and other configuration settings separate from the application \n",
    "code. By using environment variables to store this type of information, \n",
    "developers can ensure that it is kept safe and secure, while still making \n",
    "it easily accessible to the application when needed\n",
    "\"\"\"\n",
    "# os.environ['OPENAI_API_KEY']= \"YourKey\"\n",
    "# after that Delete this line of code "
   ]
  },
  {
   "cell_type": "code",
   "execution_count": 5,
   "id": "e0a0d3a4",
   "metadata": {},
   "outputs": [],
   "source": [
    "openai.api_key = os.getenv(\"OPENAI_API_KEY\")"
   ]
  },
  {
   "cell_type": "code",
   "execution_count": 6,
   "id": "d1cb3de6",
   "metadata": {},
   "outputs": [],
   "source": [
    "response = openai.Completion.create(\n",
    "    model = 'text-davinci-003',\n",
    "    prompt = 'Give me two reasons to learn OpenAI API with Python',\n",
    "    max_tokens = 300\n",
    ")"
   ]
  },
  {
   "cell_type": "code",
   "execution_count": 7,
   "id": "7929083b",
   "metadata": {},
   "outputs": [
    {
     "data": {
      "text/plain": [
       "<OpenAIObject text_completion id=cmpl-6pimKDt1L9nxAxEdpdadHy2LFvrrU at 0x2514e8211d0> JSON: {\n",
       "  \"choices\": [\n",
       "    {\n",
       "      \"finish_reason\": \"stop\",\n",
       "      \"index\": 0,\n",
       "      \"logprobs\": null,\n",
       "      \"text\": \"\\n\\n1. OpenAI API with Python provides a comprehensive suite of tools for creating and training deep learning models. This makes it an ideal platform to develop applications powered by machine learning.\\n\\n2. Python is a widely-used and easy-to-learn language, meaning that it is accessible to a range of developers and can be used to quickly and easily create sophisticated machine learning applications.\"\n",
       "    }\n",
       "  ],\n",
       "  \"created\": 1677784876,\n",
       "  \"id\": \"cmpl-6pimKDt1L9nxAxEdpdadHy2LFvrrU\",\n",
       "  \"model\": \"text-davinci-003\",\n",
       "  \"object\": \"text_completion\",\n",
       "  \"usage\": {\n",
       "    \"completion_tokens\": 79,\n",
       "    \"prompt_tokens\": 11,\n",
       "    \"total_tokens\": 90\n",
       "  }\n",
       "}"
      ]
     },
     "execution_count": 7,
     "metadata": {},
     "output_type": "execute_result"
    }
   ],
   "source": [
    "response"
   ]
  },
  {
   "cell_type": "code",
   "execution_count": 8,
   "id": "01d1cabd",
   "metadata": {},
   "outputs": [
    {
     "name": "stdout",
     "output_type": "stream",
     "text": [
      "\n",
      "\n",
      "1. OpenAI API with Python provides a comprehensive suite of tools for creating and training deep learning models. This makes it an ideal platform to develop applications powered by machine learning.\n",
      "\n",
      "2. Python is a widely-used and easy-to-learn language, meaning that it is accessible to a range of developers and can be used to quickly and easily create sophisticated machine learning applications.\n"
     ]
    }
   ],
   "source": [
    "print(response['choices'][0]['text'])"
   ]
  },
  {
   "cell_type": "code",
   "execution_count": null,
   "id": "8133458a",
   "metadata": {},
   "outputs": [],
   "source": []
  }
 ],
 "metadata": {
  "kernelspec": {
   "display_name": "Python 3 (ipykernel)",
   "language": "python",
   "name": "python3"
  },
  "language_info": {
   "codemirror_mode": {
    "name": "ipython",
    "version": 3
   },
   "file_extension": ".py",
   "mimetype": "text/x-python",
   "name": "python",
   "nbconvert_exporter": "python",
   "pygments_lexer": "ipython3",
   "version": "3.9.16"
  }
 },
 "nbformat": 4,
 "nbformat_minor": 5
}
